{
 "cells": [
  {
   "cell_type": "markdown",
   "id": "77b4245c",
   "metadata": {},
   "source": [
    "# Importing Libs"
   ]
  },
  {
   "cell_type": "code",
   "execution_count": 1,
   "id": "960d4767",
   "metadata": {},
   "outputs": [],
   "source": [
    "import pandas as pd\n",
    "import numpy as np\n",
    "# To Split Dataset\n",
    "from sklearn.model_selection import train_test_split\n",
    "# To convert data into numerical value to make it more meaningful\n",
    "from sklearn.feature_extraction.text import TfidfVectorizer \n",
    "# Machine Learning Model\n",
    "from sklearn.linear_model import LogisticRegression\n",
    "# To test accuracy of the trained model\n",
    "from sklearn.metrics import accuracy_score\n",
    "from sklearn.naive_bayes import GaussianNB\n",
    "from sklearn.naive_bayes import MultinomialNB\n",
    "from sklearn.pipeline import make_pipeline\n",
    "from sklearn.ensemble import StackingClassifier\n",
    "from sklearn.svm import SVC\n",
    "from sklearn.metrics import precision_recall_fscore_support as score\n",
    "from sklearn.model_selection import cross_val_score\n",
    "from sklearn import metrics\n",
    "import matplotlib.pyplot as plt"
   ]
  },
  {
   "cell_type": "markdown",
   "id": "1dd1ef6b",
   "metadata": {},
   "source": [
    "# Loading the Dataset (mail_data.csv)"
   ]
  },
  {
   "cell_type": "code",
   "execution_count": 2,
   "id": "329b1f1e",
   "metadata": {},
   "outputs": [],
   "source": [
    "data = pd.read_csv('mail_data.csv')"
   ]
  },
  {
   "cell_type": "code",
   "execution_count": 3,
   "id": "642a02b3",
   "metadata": {},
   "outputs": [
    {
     "data": {
      "text/html": [
       "<div>\n",
       "<style scoped>\n",
       "    .dataframe tbody tr th:only-of-type {\n",
       "        vertical-align: middle;\n",
       "    }\n",
       "\n",
       "    .dataframe tbody tr th {\n",
       "        vertical-align: top;\n",
       "    }\n",
       "\n",
       "    .dataframe thead th {\n",
       "        text-align: right;\n",
       "    }\n",
       "</style>\n",
       "<table border=\"1\" class=\"dataframe\">\n",
       "  <thead>\n",
       "    <tr style=\"text-align: right;\">\n",
       "      <th></th>\n",
       "      <th>Category</th>\n",
       "      <th>Message</th>\n",
       "    </tr>\n",
       "  </thead>\n",
       "  <tbody>\n",
       "    <tr>\n",
       "      <th>0</th>\n",
       "      <td>ham</td>\n",
       "      <td>Go until jurong point, crazy.. Available only ...</td>\n",
       "    </tr>\n",
       "    <tr>\n",
       "      <th>1</th>\n",
       "      <td>ham</td>\n",
       "      <td>Ok lar... Joking wif u oni...</td>\n",
       "    </tr>\n",
       "    <tr>\n",
       "      <th>2</th>\n",
       "      <td>spam</td>\n",
       "      <td>Free entry in 2 a wkly comp to win FA Cup fina...</td>\n",
       "    </tr>\n",
       "    <tr>\n",
       "      <th>3</th>\n",
       "      <td>ham</td>\n",
       "      <td>U dun say so early hor... U c already then say...</td>\n",
       "    </tr>\n",
       "    <tr>\n",
       "      <th>4</th>\n",
       "      <td>ham</td>\n",
       "      <td>Nah I don't think he goes to usf, he lives aro...</td>\n",
       "    </tr>\n",
       "  </tbody>\n",
       "</table>\n",
       "</div>"
      ],
      "text/plain": [
       "  Category                                            Message\n",
       "0      ham  Go until jurong point, crazy.. Available only ...\n",
       "1      ham                      Ok lar... Joking wif u oni...\n",
       "2     spam  Free entry in 2 a wkly comp to win FA Cup fina...\n",
       "3      ham  U dun say so early hor... U c already then say...\n",
       "4      ham  Nah I don't think he goes to usf, he lives aro..."
      ]
     },
     "execution_count": 3,
     "metadata": {},
     "output_type": "execute_result"
    }
   ],
   "source": [
    "data.head()"
   ]
  },
  {
   "cell_type": "markdown",
   "id": "5fa7345d",
   "metadata": {},
   "source": [
    "# EDA"
   ]
  },
  {
   "cell_type": "code",
   "execution_count": 4,
   "id": "5367fe4a",
   "metadata": {},
   "outputs": [
    {
     "name": "stdout",
     "output_type": "stream",
     "text": [
      "<class 'pandas.core.frame.DataFrame'>\n",
      "RangeIndex: 5572 entries, 0 to 5571\n",
      "Data columns (total 2 columns):\n",
      " #   Column    Non-Null Count  Dtype \n",
      "---  ------    --------------  ----- \n",
      " 0   Category  5572 non-null   object\n",
      " 1   Message   5572 non-null   object\n",
      "dtypes: object(2)\n",
      "memory usage: 87.2+ KB\n"
     ]
    }
   ],
   "source": [
    "data.info()"
   ]
  },
  {
   "cell_type": "code",
   "execution_count": 5,
   "id": "f384756e",
   "metadata": {},
   "outputs": [
    {
     "data": {
      "text/html": [
       "<div>\n",
       "<style scoped>\n",
       "    .dataframe tbody tr th:only-of-type {\n",
       "        vertical-align: middle;\n",
       "    }\n",
       "\n",
       "    .dataframe tbody tr th {\n",
       "        vertical-align: top;\n",
       "    }\n",
       "\n",
       "    .dataframe thead th {\n",
       "        text-align: right;\n",
       "    }\n",
       "</style>\n",
       "<table border=\"1\" class=\"dataframe\">\n",
       "  <thead>\n",
       "    <tr style=\"text-align: right;\">\n",
       "      <th></th>\n",
       "      <th>Category</th>\n",
       "      <th>Message</th>\n",
       "    </tr>\n",
       "  </thead>\n",
       "  <tbody>\n",
       "    <tr>\n",
       "      <th>count</th>\n",
       "      <td>5572</td>\n",
       "      <td>5572</td>\n",
       "    </tr>\n",
       "    <tr>\n",
       "      <th>unique</th>\n",
       "      <td>2</td>\n",
       "      <td>5157</td>\n",
       "    </tr>\n",
       "    <tr>\n",
       "      <th>top</th>\n",
       "      <td>ham</td>\n",
       "      <td>Sorry, I'll call later</td>\n",
       "    </tr>\n",
       "    <tr>\n",
       "      <th>freq</th>\n",
       "      <td>4825</td>\n",
       "      <td>30</td>\n",
       "    </tr>\n",
       "  </tbody>\n",
       "</table>\n",
       "</div>"
      ],
      "text/plain": [
       "       Category                 Message\n",
       "count      5572                    5572\n",
       "unique        2                    5157\n",
       "top         ham  Sorry, I'll call later\n",
       "freq       4825                      30"
      ]
     },
     "execution_count": 5,
     "metadata": {},
     "output_type": "execute_result"
    }
   ],
   "source": [
    "data.describe()"
   ]
  },
  {
   "cell_type": "code",
   "execution_count": 6,
   "id": "228cd3af",
   "metadata": {},
   "outputs": [
    {
     "data": {
      "text/plain": [
       "(5572, 2)"
      ]
     },
     "execution_count": 6,
     "metadata": {},
     "output_type": "execute_result"
    }
   ],
   "source": [
    "data.shape"
   ]
  },
  {
   "cell_type": "code",
   "execution_count": 7,
   "id": "027a8dab",
   "metadata": {},
   "outputs": [
    {
     "data": {
      "text/plain": [
       "False"
      ]
     },
     "execution_count": 7,
     "metadata": {},
     "output_type": "execute_result"
    }
   ],
   "source": [
    "# To check for the Null values\n",
    "data.isnull().values.any()"
   ]
  },
  {
   "cell_type": "markdown",
   "id": "9cd8c66d",
   "metadata": {},
   "source": [
    "# Data Preprocessing"
   ]
  },
  {
   "cell_type": "markdown",
   "id": "cae51265",
   "metadata": {},
   "source": [
    "##### Label Encoding\n",
    "##### Spam = 1\n",
    "##### Ham   = 0"
   ]
  },
  {
   "cell_type": "code",
   "execution_count": 8,
   "id": "885009b5",
   "metadata": {},
   "outputs": [],
   "source": [
    "data['Category'] = data['Category'].map(lambda x : 1 if(x == 'spam') else 0)"
   ]
  },
  {
   "cell_type": "code",
   "execution_count": 9,
   "id": "7f1e96ca",
   "metadata": {},
   "outputs": [
    {
     "data": {
      "text/html": [
       "<div>\n",
       "<style scoped>\n",
       "    .dataframe tbody tr th:only-of-type {\n",
       "        vertical-align: middle;\n",
       "    }\n",
       "\n",
       "    .dataframe tbody tr th {\n",
       "        vertical-align: top;\n",
       "    }\n",
       "\n",
       "    .dataframe thead th {\n",
       "        text-align: right;\n",
       "    }\n",
       "</style>\n",
       "<table border=\"1\" class=\"dataframe\">\n",
       "  <thead>\n",
       "    <tr style=\"text-align: right;\">\n",
       "      <th></th>\n",
       "      <th>Category</th>\n",
       "      <th>Message</th>\n",
       "    </tr>\n",
       "  </thead>\n",
       "  <tbody>\n",
       "    <tr>\n",
       "      <th>0</th>\n",
       "      <td>0</td>\n",
       "      <td>Go until jurong point, crazy.. Available only ...</td>\n",
       "    </tr>\n",
       "    <tr>\n",
       "      <th>1</th>\n",
       "      <td>0</td>\n",
       "      <td>Ok lar... Joking wif u oni...</td>\n",
       "    </tr>\n",
       "    <tr>\n",
       "      <th>2</th>\n",
       "      <td>1</td>\n",
       "      <td>Free entry in 2 a wkly comp to win FA Cup fina...</td>\n",
       "    </tr>\n",
       "    <tr>\n",
       "      <th>3</th>\n",
       "      <td>0</td>\n",
       "      <td>U dun say so early hor... U c already then say...</td>\n",
       "    </tr>\n",
       "    <tr>\n",
       "      <th>4</th>\n",
       "      <td>0</td>\n",
       "      <td>Nah I don't think he goes to usf, he lives aro...</td>\n",
       "    </tr>\n",
       "  </tbody>\n",
       "</table>\n",
       "</div>"
      ],
      "text/plain": [
       "   Category                                            Message\n",
       "0         0  Go until jurong point, crazy.. Available only ...\n",
       "1         0                      Ok lar... Joking wif u oni...\n",
       "2         1  Free entry in 2 a wkly comp to win FA Cup fina...\n",
       "3         0  U dun say so early hor... U c already then say...\n",
       "4         0  Nah I don't think he goes to usf, he lives aro..."
      ]
     },
     "execution_count": 9,
     "metadata": {},
     "output_type": "execute_result"
    }
   ],
   "source": [
    "data.head()"
   ]
  },
  {
   "cell_type": "markdown",
   "id": "56203eab",
   "metadata": {},
   "source": [
    "##### Feature and Label"
   ]
  },
  {
   "cell_type": "code",
   "execution_count": 10,
   "id": "5748714d",
   "metadata": {},
   "outputs": [],
   "source": [
    "X = data['Message']\n",
    "Y = data['Category']"
   ]
  },
  {
   "cell_type": "markdown",
   "id": "608f275e",
   "metadata": {},
   "source": [
    "# Train Test Split"
   ]
  },
  {
   "cell_type": "code",
   "execution_count": 11,
   "id": "ab01b74f",
   "metadata": {},
   "outputs": [],
   "source": [
    "X_train, X_test, Y_train, Y_test = train_test_split(X, Y, test_size=0.2, random_state=3) \n",
    "# random state 3 will train data in the same manner"
   ]
  },
  {
   "cell_type": "code",
   "execution_count": 12,
   "id": "0bc94467",
   "metadata": {},
   "outputs": [
    {
     "data": {
      "text/plain": [
       "((4457,), (1115,))"
      ]
     },
     "execution_count": 12,
     "metadata": {},
     "output_type": "execute_result"
    }
   ],
   "source": [
    "X_train.shape , X_test.shape"
   ]
  },
  {
   "cell_type": "code",
   "execution_count": 13,
   "id": "15d7c106",
   "metadata": {},
   "outputs": [
    {
     "data": {
      "text/plain": [
       "((4457,), (1115,))"
      ]
     },
     "execution_count": 13,
     "metadata": {},
     "output_type": "execute_result"
    }
   ],
   "source": [
    "Y_train.shape , Y_test.shape"
   ]
  },
  {
   "cell_type": "markdown",
   "id": "93f488ff",
   "metadata": {},
   "source": [
    "# Feature Extraction"
   ]
  },
  {
   "cell_type": "code",
   "execution_count": 14,
   "id": "1624a330",
   "metadata": {},
   "outputs": [],
   "source": [
    "# Transfroming text data to feature vectors\n",
    "# minimum document frequency >= 1 i.e min_df = 1\n",
    "feature_ext = TfidfVectorizer(min_df = 1, stop_words = 'english', lowercase='True' )\n",
    "\n",
    "# Converting X_train and X_test into features\n",
    "X_train_features = feature_ext.fit_transform(X_train) \n",
    "# Converting X_test into features\n",
    "X_test_features = feature_ext.transform(X_test) # Note: not fit transform (using only for testing purpose) \n"
   ]
  },
  {
   "cell_type": "code",
   "execution_count": 15,
   "id": "e9fb018d",
   "metadata": {},
   "outputs": [],
   "source": [
    "# Converting Y_train and Y_test as integar\n",
    "Y_train = Y_train.astype('int')\n",
    "Y_test = Y_test.astype('int')\n"
   ]
  },
  {
   "cell_type": "code",
   "execution_count": 16,
   "id": "bb9a29de",
   "metadata": {},
   "outputs": [],
   "source": [
    "#print(X_train_features)"
   ]
  },
  {
   "cell_type": "markdown",
   "id": "317ddac0",
   "metadata": {},
   "source": [
    "# Training ML Models "
   ]
  },
  {
   "cell_type": "markdown",
   "id": "768a2475",
   "metadata": {},
   "source": [
    "### Naive Bayes"
   ]
  },
  {
   "cell_type": "code",
   "execution_count": 17,
   "id": "d5cdc6b4",
   "metadata": {},
   "outputs": [
    {
     "name": "stdout",
     "output_type": "stream",
     "text": [
      "Accuracy of Naive Bayes Model : 0.8878923766816144\n"
     ]
    }
   ],
   "source": [
    "summary = {'Model':[], 'Accuracy':[], 'precision':[], 'recall':[], 'fscore':[], 'support':[]}\n",
    "\n",
    "# Build a Gaussian Classifier\n",
    "NBmodel = GaussianNB()\n",
    "\n",
    "# Model training\n",
    "NBmodel.fit(X_train_features.toarray(), Y_train)\n",
    "\n",
    "# Evaluation\n",
    "prediction = NBmodel.predict(X_test_features.toarray())\n",
    "accuracy   =  accuracy_score(Y_test, prediction)\n",
    "\n",
    "precision, recall, fscore, support = score(Y_test,prediction)\n",
    "\n",
    "summary['Model'].append('Naive Bayes')\n",
    "\n",
    "summary['Accuracy'].append(accuracy)\n",
    "summary['recall'].append(recall)\n",
    "summary['fscore'].append(fscore)\n",
    "summary['support'].append(support)\n",
    "summary['precision'].append(precision)\n",
    "\n",
    "print(f'Accuracy of Naive Bayes Model : {accuracy}')"
   ]
  },
  {
   "cell_type": "code",
   "execution_count": 18,
   "id": "09170c74",
   "metadata": {},
   "outputs": [
    {
     "data": {
      "image/png": "[encoded data removed]",
      "text/plain": [
       "<Figure size 640x480 with 2 Axes>"
      ]
     },
     "metadata": {},
     "output_type": "display_data"
    }
   ],
   "source": [
    "confusion_matrix = metrics.confusion_matrix(Y_test, prediction)\n",
    "cm_display = metrics.ConfusionMatrixDisplay(confusion_matrix = confusion_matrix, display_labels = [False, True])\n",
    "cm_display.plot()\n",
    "plt.show()"
   ]
  },
  {
   "cell_type": "markdown",
   "id": "752fed71",
   "metadata": {},
   "source": [
    "### Logistic Regression Model"
   ]
  },
  {
   "cell_type": "code",
   "execution_count": 19,
   "id": "d7f5e4b9",
   "metadata": {},
   "outputs": [
    {
     "name": "stdout",
     "output_type": "stream",
     "text": [
      "Accuracy of Logistic Redression Model : 0.9659192825112107\n"
     ]
    }
   ],
   "source": [
    "# Build a LogisticRegression Classifier\n",
    "LR_model = LogisticRegression()\n",
    "\n",
    "\n",
    "LR_model.fit(X_train_features, Y_train)\n",
    "\n",
    "# Evaluation\n",
    "prediction =  LR_model.predict(X_test_features)\n",
    "accuracy   =  accuracy_score(Y_test, prediction)\n",
    "precision, recall, fscore, support = score(Y_test,prediction)\n",
    "\n",
    "summary['Model'].append('Logistic Regression')\n",
    "summary['Accuracy'].append(accuracy)\n",
    "summary['recall'].append(recall)\n",
    "summary['fscore'].append(fscore)\n",
    "summary['support'].append(support)\n",
    "summary['precision'].append(precision)\n",
    "\n",
    "\n",
    "print(f'Accuracy of Logistic Redression Model : {accuracy}')"
   ]
  },
  {
   "cell_type": "code",
   "execution_count": 20,
   "id": "9bff8dfe",
   "metadata": {},
   "outputs": [
    {
     "data": {
      "image/png": "[encoded data removed]",
      "text/plain": [
       "<Figure size 640x480 with 2 Axes>"
      ]
     },
     "metadata": {},
     "output_type": "display_data"
    }
   ],
   "source": [
    "confusion_matrix = metrics.confusion_matrix(Y_test, prediction)\n",
    "cm_display = metrics.ConfusionMatrixDisplay(confusion_matrix = confusion_matrix, display_labels = [False, True])\n",
    "cm_display.plot()\n",
    "plt.show()"
   ]
  },
  {
   "cell_type": "markdown",
   "id": "62ee3ed9",
   "metadata": {},
   "source": [
    "## MultinomialNB Model"
   ]
  },
  {
   "cell_type": "code",
   "execution_count": 21,
   "id": "2599694e",
   "metadata": {},
   "outputs": [
    {
     "name": "stdout",
     "output_type": "stream",
     "text": [
      "Accuracy of MultinomialNB Model : 0.9730941704035875\n"
     ]
    }
   ],
   "source": [
    "# Build a MultinomialNB Classifier\n",
    "MNBmodel = MultinomialNB()\n",
    "\n",
    "# Model training\n",
    "MNBmodel.fit(X_train_features, Y_train)\n",
    "\n",
    "# Evaluation\n",
    "prediction = MNBmodel.predict(X_test_features)\n",
    "accuracy   =  accuracy_score(Y_test, prediction)\n",
    "\n",
    "precision, recall, fscore, support = score(Y_test,prediction)\n",
    "\n",
    "\n",
    "summary['Model'].append('MultinomialNB')\n",
    "summary['Accuracy'].append(accuracy)\n",
    "summary['recall'].append(recall)\n",
    "summary['fscore'].append(fscore)\n",
    "summary['support'].append(support)\n",
    "summary['precision'].append(precision)\n",
    "\n",
    "\n",
    "print(f'Accuracy of MultinomialNB Model : {accuracy}')"
   ]
  },
  {
   "cell_type": "code",
   "execution_count": 22,
   "id": "5592a45b",
   "metadata": {},
   "outputs": [
    {
     "data": {
      "image/png": "[encoded data removed]",
      "text/plain": [
       "<Figure size 640x480 with 2 Axes>"
      ]
     },
     "metadata": {},
     "output_type": "display_data"
    }
   ],
   "source": [
    "confusion_matrix = metrics.confusion_matrix(Y_test, prediction)\n",
    "cm_display = metrics.ConfusionMatrixDisplay(confusion_matrix = confusion_matrix, display_labels = [False, True])\n",
    "cm_display.plot()\n",
    "plt.show()"
   ]
  },
  {
   "cell_type": "markdown",
   "id": "d319585d",
   "metadata": {},
   "source": [
    "# Stack (Naive bayes + LogisticRegression + MultinomialNB Model)"
   ]
  },
  {
   "cell_type": "code",
   "execution_count": 23,
   "id": "6061e5ac",
   "metadata": {},
   "outputs": [],
   "source": [
    "MNBmodel = MultinomialNB()\n",
    "LR_model = LogisticRegression()\n",
    "NBmodel = GaussianNB()\n",
    "\n",
    "classifiers = [('lr',LR_model),('mnb',MNBmodel),('nb',NBmodel),] #list of (str, estimator)"
   ]
  },
  {
   "cell_type": "code",
   "execution_count": 24,
   "id": "c881bcd0",
   "metadata": {},
   "outputs": [],
   "source": [
    "stack_model = StackingClassifier( estimators =  classifiers , final_estimator = SVC())"
   ]
  },
  {
   "cell_type": "code",
   "execution_count": 25,
   "id": "3601b292",
   "metadata": {},
   "outputs": [
    {
     "name": "stdout",
     "output_type": "stream",
     "text": [
      "Accuracy of Stack Model : 0.989237668161435\n"
     ]
    }
   ],
   "source": [
    "stack_model.fit(X_train_features.toarray(), Y_train)\n",
    "prediction = stack_model.predict(X_test_features.toarray())\n",
    "\n",
    "precision, recall, fscore, support = score(Y_test,prediction)\n",
    "accuracy   =  accuracy_score(Y_test, prediction)\n",
    "\n",
    "summary['Model'].append('Stack')\n",
    "summary['Accuracy'].append(accuracy)\n",
    "summary['recall'].append(recall)\n",
    "summary['fscore'].append(fscore)\n",
    "summary['support'].append(support)\n",
    "summary['precision'].append(precision)\n",
    "\n",
    "\n",
    "\n",
    "print(f'Accuracy of Stack Model : {accuracy}')"
   ]
  },
  {
   "cell_type": "code",
   "execution_count": 26,
   "id": "d48d8e69",
   "metadata": {},
   "outputs": [
    {
     "data": {
      "image/png": "[encoded data removed]",
      "text/plain": [
       "<Figure size 640x480 with 2 Axes>"
      ]
     },
     "metadata": {},
     "output_type": "display_data"
    }
   ],
   "source": [
    "confusion_matrix = metrics.confusion_matrix(Y_test, prediction)\n",
    "cm_display = metrics.ConfusionMatrixDisplay(confusion_matrix = confusion_matrix, display_labels = [False, True])\n",
    "cm_display.plot()\n",
    "plt.show()"
   ]
  },
  {
   "cell_type": "markdown",
   "id": "4aa93635",
   "metadata": {},
   "source": [
    "# Comparison"
   ]
  },
  {
   "cell_type": "code",
   "execution_count": 27,
   "id": "99944e65",
   "metadata": {},
   "outputs": [],
   "source": [
    "result = pd.DataFrame(summary) "
   ]
  },
  {
   "cell_type": "code",
   "execution_count": 28,
   "id": "d83b5a94",
   "metadata": {},
   "outputs": [
    {
     "data": {
      "text/html": [
       "<div>\n",
       "<style scoped>\n",
       "    .dataframe tbody tr th:only-of-type {\n",
       "        vertical-align: middle;\n",
       "    }\n",
       "\n",
       "    .dataframe tbody tr th {\n",
       "        vertical-align: top;\n",
       "    }\n",
       "\n",
       "    .dataframe thead th {\n",
       "        text-align: right;\n",
       "    }\n",
       "</style>\n",
       "<table border=\"1\" class=\"dataframe\">\n",
       "  <thead>\n",
       "    <tr style=\"text-align: right;\">\n",
       "      <th></th>\n",
       "      <th>Model</th>\n",
       "      <th>Accuracy</th>\n",
       "      <th>precision</th>\n",
       "      <th>recall</th>\n",
       "      <th>fscore</th>\n",
       "      <th>support</th>\n",
       "    </tr>\n",
       "  </thead>\n",
       "  <tbody>\n",
       "    <tr>\n",
       "      <th>0</th>\n",
       "      <td>Naive Bayes</td>\n",
       "      <td>0.887892</td>\n",
       "      <td>[0.9826589595375722, 0.56]</td>\n",
       "      <td>[0.8854166666666666, 0.9032258064516129]</td>\n",
       "      <td>[0.9315068493150684, 0.691358024691358]</td>\n",
       "      <td>[960, 155]</td>\n",
       "    </tr>\n",
       "    <tr>\n",
       "      <th>1</th>\n",
       "      <td>Logistic Regression</td>\n",
       "      <td>0.965919</td>\n",
       "      <td>[0.9619238476953907, 1.0]</td>\n",
       "      <td>[1.0, 0.7548387096774194]</td>\n",
       "      <td>[0.9805924412665985, 0.8602941176470589]</td>\n",
       "      <td>[960, 155]</td>\n",
       "    </tr>\n",
       "    <tr>\n",
       "      <th>2</th>\n",
       "      <td>MultinomialNB</td>\n",
       "      <td>0.973094</td>\n",
       "      <td>[0.9696969696969697, 1.0]</td>\n",
       "      <td>[1.0, 0.8064516129032258]</td>\n",
       "      <td>[0.9846153846153847, 0.8928571428571428]</td>\n",
       "      <td>[960, 155]</td>\n",
       "    </tr>\n",
       "    <tr>\n",
       "      <th>3</th>\n",
       "      <td>Stack</td>\n",
       "      <td>0.989238</td>\n",
       "      <td>[0.988659793814433, 0.993103448275862]</td>\n",
       "      <td>[0.9989583333333333, 0.9290322580645162]</td>\n",
       "      <td>[0.993782383419689, 0.9600000000000001]</td>\n",
       "      <td>[960, 155]</td>\n",
       "    </tr>\n",
       "  </tbody>\n",
       "</table>\n",
       "</div>"
      ],
      "text/plain": [
       "                 Model  Accuracy                               precision  \\\n",
       "0          Naive Bayes  0.887892              [0.9826589595375722, 0.56]   \n",
       "1  Logistic Regression  0.965919               [0.9619238476953907, 1.0]   \n",
       "2        MultinomialNB  0.973094               [0.9696969696969697, 1.0]   \n",
       "3                Stack  0.989238  [0.988659793814433, 0.993103448275862]   \n",
       "\n",
       "                                     recall  \\\n",
       "0  [0.8854166666666666, 0.9032258064516129]   \n",
       "1                 [1.0, 0.7548387096774194]   \n",
       "2                 [1.0, 0.8064516129032258]   \n",
       "3  [0.9989583333333333, 0.9290322580645162]   \n",
       "\n",
       "                                     fscore     support  \n",
       "0   [0.9315068493150684, 0.691358024691358]  [960, 155]  \n",
       "1  [0.9805924412665985, 0.8602941176470589]  [960, 155]  \n",
       "2  [0.9846153846153847, 0.8928571428571428]  [960, 155]  \n",
       "3   [0.993782383419689, 0.9600000000000001]  [960, 155]  "
      ]
     },
     "execution_count": 28,
     "metadata": {},
     "output_type": "execute_result"
    }
   ],
   "source": [
    "result"
   ]
  },
  {
   "cell_type": "markdown",
   "id": "d9fc5b27",
   "metadata": {},
   "source": [
    "##### Conclusion: Stack is giving better Accuracy"
   ]
  }
 ],
 "metadata": {
  "kernelspec": {
   "display_name": "Python 3 (ipykernel)",
   "language": "python",
   "name": "python3"
  },
  "language_info": {
   "codemirror_mode": {
    "name": "ipython",
    "version": 3
   },
   "file_extension": ".py",
   "mimetype": "text/x-python",
   "name": "python",
   "nbconvert_exporter": "python",
   "pygments_lexer": "ipython3",
   "version": "3.9.13"
  }
 },
 "nbformat": 4,
 "nbformat_minor": 5
}
